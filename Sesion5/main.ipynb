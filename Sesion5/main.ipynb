{
 "cells": [
  {
   "cell_type": "markdown",
   "metadata": {},
   "source": [
    "# ETL\n",
    "\n",
    "## Importar librerias\n",
    "\n",
    "Se importan las librerias y desde el directorio `utils` se importa la conexion a la base de datos"
   ]
  },
  {
   "cell_type": "code",
   "execution_count": 2,
   "metadata": {},
   "outputs": [],
   "source": [
    "import pandas as pd\n",
    "from utils import connection as con\n",
    "from etl import extract as ex\n",
    "from etl import load\n",
    "from etl import transform as t"
   ]
  },
  {
   "cell_type": "markdown",
   "metadata": {},
   "source": [
    "## Establecer la conexion\n",
    "\n",
    "Con sqlalchemy y las cadenas de conexion importados desde `utils` establecemos la conexion a la base de datos"
   ]
  },
  {
   "cell_type": "code",
   "execution_count": 3,
   "metadata": {},
   "outputs": [],
   "source": [
    "conn_retail_db = con.connect_retail_db()\n",
    "conn_dw_retail = con.connect_dw_retail()"
   ]
  },
  {
   "cell_type": "markdown",
   "metadata": {},
   "source": [
    "## Metodo para importar tablas\n",
    "\n",
    "- customers\n",
    "- orders\n",
    "- order_items\n",
    "- products\n",
    "- categories\n",
    "- departments"
   ]
  },
  {
   "cell_type": "code",
   "execution_count": 4,
   "metadata": {},
   "outputs": [],
   "source": [
    "df_customers = ex.extract_table('customers', conn_retail_db)\n",
    "df_orders = ex.extract_table('orders', conn_retail_db)\n",
    "df_order_items = ex.extract_table('order_items', conn_retail_db)\n",
    "df_products = ex.extract_table('products', conn_retail_db)\n",
    "df_categories = ex.extract_table('categories', conn_retail_db)\n",
    "df_departments = ex.extract_table('departments', conn_retail_db)"
   ]
  },
  {
   "cell_type": "markdown",
   "metadata": {},
   "source": [
    "## Cargar informacion a las tablas de OLAP\n",
    "\n",
    "En la tabla customers de la base retail_db se debe eliminar la columna customer_password para poder cargar en la tabla de dimensiones dimension_customer. Esto debido a que no coinciden las columnas."
   ]
  },
  {
   "cell_type": "code",
   "execution_count": 14,
   "metadata": {},
   "outputs": [],
   "source": [
    "load.load_dw_retail('dimension_customer', conn_dw_retail, df_customers.drop('customer_password', axis=1))"
   ]
  },
  {
   "cell_type": "code",
   "execution_count": 15,
   "metadata": {},
   "outputs": [],
   "source": [
    "load.load_dw_retail('dimension_order', conn_dw_retail, df_orders)"
   ]
  },
  {
   "cell_type": "code",
   "execution_count": 6,
   "metadata": {},
   "outputs": [],
   "source": [
    "load.load_dw_retail('dimension_department', conn_dw_retail, df_departments)"
   ]
  },
  {
   "cell_type": "code",
   "execution_count": 7,
   "metadata": {},
   "outputs": [],
   "source": [
    "load.load_dw_retail('dimension_category', conn_dw_retail, df_categories)"
   ]
  },
  {
   "cell_type": "code",
   "execution_count": 8,
   "metadata": {},
   "outputs": [],
   "source": [
    "load.load_dw_retail('dimension_product', conn_dw_retail, df_products)"
   ]
  },
  {
   "cell_type": "code",
   "execution_count": null,
   "metadata": {},
   "outputs": [],
   "source": [
    "load.load_dw_retail('dimension_order_item', conn_dw_retail, df_order_items)"
   ]
  },
  {
   "cell_type": "markdown",
   "metadata": {},
   "source": [
    "## Transform\n",
    "\n",
    "Transformar tipos de datos al formato correcto"
   ]
  },
  {
   "cell_type": "code",
   "execution_count": 30,
   "metadata": {},
   "outputs": [],
   "source": [
    "query = \"\"\"\n",
    "SELECT DISTINCT\n",
    "  DATE_FORMAT(order_date, '%%Y%%m%%d') AS time_id,\n",
    "  YEAR(order_date) AS year,\n",
    "  QUARTER(order_date) AS quarter,\n",
    "  MONTH(order_date) AS month,\n",
    "  DAY(order_date) AS day,\n",
    "  DAYOFWEEK(order_date) AS day_of_week,\n",
    "  DAYOFYEAR(order_date) AS day_of_year,\n",
    "  WEEK(order_date) AS week_of_year,\n",
    "  CASE \n",
    "    WHEN DAYOFWEEK(order_date) IN (1,7) THEN TRUE \n",
    "    ELSE FALSE \n",
    "  END AS is_weekend\n",
    "FROM retail_db.orders\n",
    "\"\"\"\n",
    "\n",
    "df_dimension_time = t.transform_time_from_order(conn_retail_db, query)"
   ]
  },
  {
   "cell_type": "markdown",
   "metadata": {},
   "source": [
    "## Load transformed data\n",
    "\n",
    "Cargar la data que ya fue transformada en la tabla correspondiente"
   ]
  },
  {
   "cell_type": "code",
   "execution_count": 24,
   "metadata": {},
   "outputs": [],
   "source": [
    "load.load_dw_retail('dimension_time', conn_dw_retail, df_dimension_time)"
   ]
  },
  {
   "cell_type": "code",
   "execution_count": 83,
   "metadata": {},
   "outputs": [],
   "source": [
    "query = \"\"\"\n",
    "SELECT\n",
    "  o.order_id,\n",
    "  o.order_date,\n",
    "  o.order_customer_id,\n",
    "  o.order_status,\n",
    "  SUM(oi.order_item_quantity) AS total_items,\n",
    "  SUM(oi.order_item_subtotal) AS total_amount,\n",
    "  DATE_FORMAT(o.order_date, '%%Y%%m%%d') as time_id\n",
    "FROM retail_db.orders o\n",
    "INNER JOIN retail_db.order_items oi ON o.order_id = oi.order_item_order_id\n",
    "INNER JOIN dw_retail.dimension_time dt ON DATE_FORMAT(o.order_date, '%%Y%%m%%d') = dt.time_id\n",
    "GROUP BY o.order_id\n",
    "\"\"\"\n",
    "\n",
    "df_fact_orders = t.transform_time_from_order(conn_dw_retail, query)"
   ]
  },
  {
   "cell_type": "code",
   "execution_count": 84,
   "metadata": {},
   "outputs": [],
   "source": [
    "load.load_dw_retail('fact_orders', conn_dw_retail, df_fact_orders)\n",
    "conn_dw_retail.commit()"
   ]
  },
  {
   "cell_type": "code",
   "execution_count": 4,
   "metadata": {},
   "outputs": [],
   "source": [
    "conn_dw_retail.close()"
   ]
  }
 ],
 "metadata": {
  "kernelspec": {
   "display_name": "Python 3",
   "language": "python",
   "name": "python3"
  },
  "language_info": {
   "codemirror_mode": {
    "name": "ipython",
    "version": 3
   },
   "file_extension": ".py",
   "mimetype": "text/x-python",
   "name": "python",
   "nbconvert_exporter": "python",
   "pygments_lexer": "ipython3",
   "version": "3.12.3"
  }
 },
 "nbformat": 4,
 "nbformat_minor": 2
}

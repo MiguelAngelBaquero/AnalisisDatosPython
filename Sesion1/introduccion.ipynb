{
 "cells": [
  {
   "cell_type": "code",
   "execution_count": 28,
   "metadata": {},
   "outputs": [
    {
     "name": "stdout",
     "output_type": "stream",
     "text": [
      "<class 'int'>\n",
      "Es verdadero\n"
     ]
    }
   ],
   "source": [
    "variable = 5\n",
    "print(type(variable))\n",
    "\n",
    "# se va a comparar la variable con el valor 5\n",
    "if variable == 5:\n",
    "  print(\"Es verdadero\")\n",
    "else:\n",
    "  print(\"Es falso\")"
   ]
  },
  {
   "cell_type": "code",
   "execution_count": 1,
   "metadata": {},
   "outputs": [
    {
     "name": "stdout",
     "output_type": "stream",
     "text": [
      "a\n",
      "f\n",
      "a\n",
      "b\n",
      "c\n",
      "d\n",
      "e\n",
      "f\n",
      "['c', 'd', 'e']\n"
     ]
    }
   ],
   "source": [
    "# Accediendo a elementos de una lista\n",
    "lista = ['a', 'b', 'c', 'd', 'e', 'f']\n",
    "\n",
    "# Primer elemento\n",
    "print(lista[0])\n",
    "\n",
    "# Ultimo elemento\n",
    "print(lista[-1])\n",
    "\n",
    "# Todos los elementos\n",
    "for i in lista:\n",
    "  print(i)\n",
    "\n",
    "# Rango de elementos\n",
    "print(lista[2:5])"
   ]
  },
  {
   "cell_type": "code",
   "execution_count": 36,
   "metadata": {},
   "outputs": [
    {
     "name": "stdout",
     "output_type": "stream",
     "text": [
      "6\n"
     ]
    }
   ],
   "source": [
    "# Array 3D\n",
    "lista2 = [[1, 2], [3, 4], [5, 6]]\n",
    "print(lista2[2][1])"
   ]
  },
  {
   "cell_type": "code",
   "execution_count": 45,
   "metadata": {},
   "outputs": [
    {
     "name": "stdout",
     "output_type": "stream",
     "text": [
      "(1, 2, 3)\n",
      "(1, 'a', 3.3, 'b')\n",
      "('apple', 1, [1, 2, 3], (4, 3, 2))\n",
      "1\n",
      "a\n",
      "[1, 2, 3]\n",
      "(3,)\n"
     ]
    }
   ],
   "source": [
    "# Tupla\n",
    "# No se pueden modificar\n",
    "\n",
    "tupla1 = (1, 2, 3)\n",
    "print(tupla1)\n",
    "\n",
    "tupla2 = (1, 'a', 3.3, 'b')\n",
    "print(tupla2)\n",
    "\n",
    "tupla3 = ('apple', 1, [1, 2, 3], (4, 3, 2))\n",
    "print(tupla3)\n",
    "\n",
    "# Elementos de una tupla\n",
    "print(tupla1[0])\n",
    "print(tupla2[1])\n",
    "print(tupla3[2])\n",
    "\n",
    "# Rango de elementos de una tupla\n",
    "print(tupla1[2:3])"
   ]
  },
  {
   "cell_type": "code",
   "execution_count": 57,
   "metadata": {},
   "outputs": [
    {
     "name": "stdout",
     "output_type": "stream",
     "text": [
      "{1: 'Juan', 2: 'Perez'}\n",
      "dict_keys([1, 2]) dict_values(['Juan', [1, 2, 3]])\n",
      "Juan\n",
      "None\n",
      "Calle B\n"
     ]
    }
   ],
   "source": [
    "# Diccionario\n",
    "# diccionario = {'key': value}\n",
    "diccionario = {1:'Juan', 2:'Perez'}\n",
    "print(diccionario)\n",
    "\n",
    "diccionario2 = {'nombre':'Juan', 1:[1, 2, 3]}\n",
    "print(diccionario.keys(), diccionario2.values())\n",
    "print(diccionario2['nombre'])\n",
    "\n",
    "# Acceder a datos que no existen\n",
    "print(diccionario.get('direccion'))\n",
    "\n",
    "# Agregar datos a un diccionario\n",
    "diccionario['direccion'] = 'Calle B'\n",
    "print(diccionario.get('direccion'))"
   ]
  },
  {
   "cell_type": "code",
   "execution_count": 58,
   "metadata": {},
   "outputs": [
    {
     "name": "stdout",
     "output_type": "stream",
     "text": [
      "1 Juan\n",
      "2 Perez\n",
      "direccion Calle B\n",
      "Juan\n",
      "Perez\n",
      "Calle B\n"
     ]
    }
   ],
   "source": [
    "# Iterar elementos de un diccionario\n",
    "for clave, valor in diccionario.items():\n",
    "  print(clave, valor)\n",
    "\n",
    "for clave in diccionario.keys():\n",
    "  print(diccionario[clave])"
   ]
  },
  {
   "cell_type": "code",
   "execution_count": 68,
   "metadata": {},
   "outputs": [
    {
     "name": "stdout",
     "output_type": "stream",
     "text": [
      "El numero es negativo\n"
     ]
    }
   ],
   "source": [
    "# Control de flujo condicional\n",
    "numero = -10\n",
    "\n",
    "if numero > 0:\n",
    "  print('El numero es positivo')\n",
    "elif numero == 0:\n",
    "  print('El numero es 0')\n",
    "else:\n",
    "  print('El numero es negativo')"
   ]
  },
  {
   "cell_type": "code",
   "execution_count": 76,
   "metadata": {},
   "outputs": [
    {
     "name": "stdout",
     "output_type": "stream",
     "text": [
      "El elemento de la lista es a\n",
      "El elemento de la lista es b\n",
      "El elemento de la lista es c\n",
      "El elemento de la lista es d\n",
      "El elemento de la lista es e\n",
      "El elemento de la lista es f\n",
      "55\n"
     ]
    }
   ],
   "source": [
    "# For loop\n",
    "for item in lista:\n",
    "  print(f'El elemento de la lista es {item}')\n",
    "\n",
    "# While\n",
    "n = 10\n",
    "sum = 0\n",
    "i = 1\n",
    "\n",
    "while i <= n:\n",
    "  sum = sum + i\n",
    "  i = i + 1\n",
    "\n",
    "print(sum)"
   ]
  },
  {
   "cell_type": "code",
   "execution_count": 77,
   "metadata": {},
   "outputs": [
    {
     "name": "stdout",
     "output_type": "stream",
     "text": [
      "error\n",
      "division by zero\n"
     ]
    }
   ],
   "source": [
    "# Manejo de errores\n",
    "try:\n",
    "  print(234/0)\n",
    "except Exception as e:\n",
    "  print('error')\n",
    "  print(e)"
   ]
  },
  {
   "cell_type": "code",
   "execution_count": 86,
   "metadata": {},
   "outputs": [
    {
     "name": "stdout",
     "output_type": "stream",
     "text": [
      "40\n",
      "64\n"
     ]
    },
    {
     "data": {
      "text/plain": [
       "'\\nDOCUMENTAR FUNCIONES\\n\\ndescribir la funcion\\ncolocar los parametros de entrada\\ncolocar la salida o resultado esperado\\n'"
      ]
     },
     "execution_count": 86,
     "metadata": {},
     "output_type": "execute_result"
    }
   ],
   "source": [
    "# Funciones\n",
    "def Sumar(num1, num2):\n",
    "  sum = num1 + num2\n",
    "  return sum\n",
    "\n",
    "def Potenciar(num1, potencia):\n",
    "  res = num1 ** potencia\n",
    "  return res\n",
    "\n",
    "print(Sumar(23, 17))\n",
    "print(Potenciar(8, 2))\n",
    "\n",
    "\"\"\"\n",
    "DOCUMENTAR FUNCIONES\n",
    "\n",
    "describir la funcion\n",
    "colocar los parametros de entrada\n",
    "colocar la salida o resultado esperado\n",
    "\"\"\""
   ]
  }
 ],
 "metadata": {
  "kernelspec": {
   "display_name": "Python 3",
   "language": "python",
   "name": "python3"
  },
  "language_info": {
   "codemirror_mode": {
    "name": "ipython",
    "version": 3
   },
   "file_extension": ".py",
   "mimetype": "text/x-python",
   "name": "python",
   "nbconvert_exporter": "python",
   "pygments_lexer": "ipython3",
   "version": "3.11.4"
  }
 },
 "nbformat": 4,
 "nbformat_minor": 2
}
